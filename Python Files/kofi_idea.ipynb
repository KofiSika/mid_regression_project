{
 "cells": [
  {
   "cell_type": "markdown",
   "metadata": {},
   "source": [
    "## Kofi's First Idea"
   ]
  },
  {
   "cell_type": "code",
   "execution_count": null,
   "metadata": {},
   "outputs": [],
   "source": [
    "from sklearn.preprocessing import StandardScaler"
   ]
  },
  {
   "cell_type": "code",
   "execution_count": null,
   "metadata": {},
   "outputs": [],
   "source": [
    "scaler = StandardScaler()\n",
    "scaler.fit(X_useful)\n",
    "x_scaled = scaler.transform(X_useful)\n",
    "x_useful = pd.DataFrame(x_scaled, columns = X_useful.columns)"
   ]
  },
  {
   "cell_type": "code",
   "execution_count": null,
   "metadata": {},
   "outputs": [],
   "source": [
    "x_full_useful = pd.concat([x_useful, categorical_useful], axis=1)"
   ]
  },
  {
   "cell_type": "code",
   "execution_count": null,
   "metadata": {},
   "outputs": [
    {
     "data": {
      "text/html": [
       "<div>\n",
       "<style scoped>\n",
       "    .dataframe tbody tr th:only-of-type {\n",
       "        vertical-align: middle;\n",
       "    }\n",
       "\n",
       "    .dataframe tbody tr th {\n",
       "        vertical-align: top;\n",
       "    }\n",
       "\n",
       "    .dataframe thead th {\n",
       "        text-align: right;\n",
       "    }\n",
       "</style>\n",
       "<table border=\"1\" class=\"dataframe\">\n",
       "  <thead>\n",
       "    <tr style=\"text-align: right;\">\n",
       "      <th></th>\n",
       "      <th>q1_balance</th>\n",
       "      <th>q2_balance</th>\n",
       "      <th>q3_balance</th>\n",
       "      <th>q4_balance</th>\n",
       "      <th>overdraft_protection_Yes</th>\n",
       "      <th>own_your_home_Yes</th>\n",
       "    </tr>\n",
       "  </thead>\n",
       "  <tbody>\n",
       "    <tr>\n",
       "      <th>0</th>\n",
       "      <td>1.224165</td>\n",
       "      <td>-0.267767</td>\n",
       "      <td>0.095768</td>\n",
       "      <td>0.343376</td>\n",
       "      <td>0</td>\n",
       "      <td>0</td>\n",
       "    </tr>\n",
       "    <tr>\n",
       "      <th>1</th>\n",
       "      <td>-1.406368</td>\n",
       "      <td>-1.954545</td>\n",
       "      <td>-1.743065</td>\n",
       "      <td>-0.795158</td>\n",
       "      <td>0</td>\n",
       "      <td>1</td>\n",
       "    </tr>\n",
       "    <tr>\n",
       "      <th>2</th>\n",
       "      <td>-0.877034</td>\n",
       "      <td>-1.416351</td>\n",
       "      <td>-1.621922</td>\n",
       "      <td>-1.017137</td>\n",
       "      <td>0</td>\n",
       "      <td>1</td>\n",
       "    </tr>\n",
       "    <tr>\n",
       "      <th>3</th>\n",
       "      <td>1.077307</td>\n",
       "      <td>1.664042</td>\n",
       "      <td>0.139163</td>\n",
       "      <td>-0.700280</td>\n",
       "      <td>0</td>\n",
       "      <td>0</td>\n",
       "    </tr>\n",
       "    <tr>\n",
       "      <th>4</th>\n",
       "      <td>1.984276</td>\n",
       "      <td>0.782367</td>\n",
       "      <td>-0.108546</td>\n",
       "      <td>-0.796948</td>\n",
       "      <td>0</td>\n",
       "      <td>1</td>\n",
       "    </tr>\n",
       "    <tr>\n",
       "      <th>...</th>\n",
       "      <td>...</td>\n",
       "      <td>...</td>\n",
       "      <td>...</td>\n",
       "      <td>...</td>\n",
       "      <td>...</td>\n",
       "      <td>...</td>\n",
       "    </tr>\n",
       "    <tr>\n",
       "      <th>17995</th>\n",
       "      <td>-1.249827</td>\n",
       "      <td>-2.044244</td>\n",
       "      <td>-1.755722</td>\n",
       "      <td>-0.737874</td>\n",
       "      <td>0</td>\n",
       "      <td>1</td>\n",
       "    </tr>\n",
       "    <tr>\n",
       "      <th>17996</th>\n",
       "      <td>0.118696</td>\n",
       "      <td>-0.129937</td>\n",
       "      <td>-0.179062</td>\n",
       "      <td>-0.492623</td>\n",
       "      <td>0</td>\n",
       "      <td>1</td>\n",
       "    </tr>\n",
       "    <tr>\n",
       "      <th>17997</th>\n",
       "      <td>0.012183</td>\n",
       "      <td>-0.508423</td>\n",
       "      <td>0.231375</td>\n",
       "      <td>1.224129</td>\n",
       "      <td>0</td>\n",
       "      <td>0</td>\n",
       "    </tr>\n",
       "    <tr>\n",
       "      <th>17998</th>\n",
       "      <td>-0.459053</td>\n",
       "      <td>-0.035862</td>\n",
       "      <td>-0.320094</td>\n",
       "      <td>1.440737</td>\n",
       "      <td>0</td>\n",
       "      <td>1</td>\n",
       "    </tr>\n",
       "    <tr>\n",
       "      <th>17999</th>\n",
       "      <td>-1.041644</td>\n",
       "      <td>0.828310</td>\n",
       "      <td>1.692317</td>\n",
       "      <td>-0.370893</td>\n",
       "      <td>0</td>\n",
       "      <td>0</td>\n",
       "    </tr>\n",
       "  </tbody>\n",
       "</table>\n",
       "<p>18000 rows × 6 columns</p>\n",
       "</div>"
      ],
      "text/plain": [
       "       q1_balance  q2_balance  q3_balance  q4_balance  \\\n",
       "0        1.224165   -0.267767    0.095768    0.343376   \n",
       "1       -1.406368   -1.954545   -1.743065   -0.795158   \n",
       "2       -0.877034   -1.416351   -1.621922   -1.017137   \n",
       "3        1.077307    1.664042    0.139163   -0.700280   \n",
       "4        1.984276    0.782367   -0.108546   -0.796948   \n",
       "...           ...         ...         ...         ...   \n",
       "17995   -1.249827   -2.044244   -1.755722   -0.737874   \n",
       "17996    0.118696   -0.129937   -0.179062   -0.492623   \n",
       "17997    0.012183   -0.508423    0.231375    1.224129   \n",
       "17998   -0.459053   -0.035862   -0.320094    1.440737   \n",
       "17999   -1.041644    0.828310    1.692317   -0.370893   \n",
       "\n",
       "       overdraft_protection_Yes  own_your_home_Yes  \n",
       "0                             0                  0  \n",
       "1                             0                  1  \n",
       "2                             0                  1  \n",
       "3                             0                  0  \n",
       "4                             0                  1  \n",
       "...                         ...                ...  \n",
       "17995                         0                  1  \n",
       "17996                         0                  1  \n",
       "17997                         0                  0  \n",
       "17998                         0                  1  \n",
       "17999                         0                  0  \n",
       "\n",
       "[18000 rows x 6 columns]"
      ]
     },
     "metadata": {},
     "output_type": "display_data"
    }
   ],
   "source": [
    "x_full_useful"
   ]
  },
  {
   "cell_type": "code",
   "execution_count": null,
   "metadata": {},
   "outputs": [],
   "source": [
    "from sklearn.linear_model import LogisticRegression\n",
    "\n",
    "from sklearn.model_selection import train_test_split\n",
    "\n",
    "from sklearn.metrics import confusion_matrix, plot_confusion_matrix\n",
    "from sklearn.metrics import classification_report\n",
    "from sklearn.metrics import accuracy_score"
   ]
  },
  {
   "cell_type": "code",
   "execution_count": null,
   "metadata": {},
   "outputs": [],
   "source": [
    "X_train, X_test, y_train, y_test = train_test_split(x_full_useful, y, test_size=0.3, random_state=100)"
   ]
  },
  {
   "cell_type": "code",
   "execution_count": null,
   "metadata": {},
   "outputs": [],
   "source": [
    "X_train_tk_useful, y_train_tk_useful = tomek.fit_resample(X_train, y_train)"
   ]
  },
  {
   "cell_type": "code",
   "execution_count": null,
   "metadata": {},
   "outputs": [],
   "source": [
    "X_train_tk_sm_useful, y_train_tk_sm_useful = smote.fit_resample(X_train_tk_useful, y_train_tk_useful)"
   ]
  },
  {
   "cell_type": "code",
   "execution_count": null,
   "metadata": {},
   "outputs": [
    {
     "data": {
      "text/plain": [
       "Yes    11448\n",
       "No     11448\n",
       "Name: offer_accepted, dtype: int64"
      ]
     },
     "metadata": {},
     "output_type": "display_data"
    }
   ],
   "source": [
    "y_train_tk_sm_useful.value_counts()"
   ]
  },
  {
   "cell_type": "code",
   "execution_count": null,
   "metadata": {},
   "outputs": [],
   "source": [
    "lr = LogisticRegression(max_iter=400).fit(X_train_tk_sm_useful, y_train_tk_sm_useful)\n",
    "y_pred_tk_sm_useful = lr.predict(X_test)"
   ]
  },
  {
   "cell_type": "code",
   "execution_count": null,
   "metadata": {},
   "outputs": [
    {
     "data": {
      "text/plain": [
       "0.5111111111111111"
      ]
     },
     "metadata": {},
     "output_type": "display_data"
    }
   ],
   "source": [
    "accuracy_score(y_test ,y_pred_tk_sm_useful)"
   ]
  },
  {
   "cell_type": "code",
   "execution_count": null,
   "metadata": {},
   "outputs": [
    {
     "data": {
      "text/html": [
       "<div>\n",
       "<style scoped>\n",
       "    .dataframe tbody tr th:only-of-type {\n",
       "        vertical-align: middle;\n",
       "    }\n",
       "\n",
       "    .dataframe tbody tr th {\n",
       "        vertical-align: top;\n",
       "    }\n",
       "\n",
       "    .dataframe thead th {\n",
       "        text-align: right;\n",
       "    }\n",
       "</style>\n",
       "<table border=\"1\" class=\"dataframe\">\n",
       "  <thead>\n",
       "    <tr style=\"text-align: right;\">\n",
       "      <th></th>\n",
       "      <th>No</th>\n",
       "      <th>Yes</th>\n",
       "      <th>accuracy</th>\n",
       "      <th>macro avg</th>\n",
       "      <th>weighted avg</th>\n",
       "    </tr>\n",
       "  </thead>\n",
       "  <tbody>\n",
       "    <tr>\n",
       "      <th>precision</th>\n",
       "      <td>0.947559</td>\n",
       "      <td>0.053131</td>\n",
       "      <td>0.511111</td>\n",
       "      <td>0.500345</td>\n",
       "      <td>0.900353</td>\n",
       "    </tr>\n",
       "    <tr>\n",
       "      <th>recall</th>\n",
       "      <td>0.512219</td>\n",
       "      <td>0.491228</td>\n",
       "      <td>0.511111</td>\n",
       "      <td>0.501724</td>\n",
       "      <td>0.511111</td>\n",
       "    </tr>\n",
       "    <tr>\n",
       "      <th>f1-score</th>\n",
       "      <td>0.664975</td>\n",
       "      <td>0.095890</td>\n",
       "      <td>0.511111</td>\n",
       "      <td>0.380433</td>\n",
       "      <td>0.634940</td>\n",
       "    </tr>\n",
       "    <tr>\n",
       "      <th>support</th>\n",
       "      <td>5115.000000</td>\n",
       "      <td>285.000000</td>\n",
       "      <td>0.511111</td>\n",
       "      <td>5400.000000</td>\n",
       "      <td>5400.000000</td>\n",
       "    </tr>\n",
       "  </tbody>\n",
       "</table>\n",
       "</div>"
      ],
      "text/plain": [
       "                    No         Yes  accuracy    macro avg  weighted avg\n",
       "precision     0.947559    0.053131  0.511111     0.500345      0.900353\n",
       "recall        0.512219    0.491228  0.511111     0.501724      0.511111\n",
       "f1-score      0.664975    0.095890  0.511111     0.380433      0.634940\n",
       "support    5115.000000  285.000000  0.511111  5400.000000   5400.000000"
      ]
     },
     "metadata": {},
     "output_type": "display_data"
    }
   ],
   "source": [
    "pd.DataFrame(classification_report(y_test, y_pred_tk_sm_useful, output_dict=True))"
   ]
  },
  {
   "cell_type": "code",
   "execution_count": null,
   "metadata": {},
   "outputs": [
    {
     "data": {
      "image/png": "[encoded data removed]",
      "text/plain": [
       "<Figure size 600x600 with 2 Axes>"
      ]
     },
     "metadata": {},
     "output_type": "display_data"
    }
   ],
   "source": [
    "fig, ax = plt.subplots(figsize=(6, 6), dpi=100)\n",
    "plt.title('Confusion Matrix Plot')\n",
    "plot_confusion_matrix(lr, X_test, y_test, ax=ax, normalize='all', values_format='.2%');"
   ]
  },
  {
   "cell_type": "markdown",
   "metadata": {},
   "source": [
    "## Candidate Model 8\n",
    "### Gaussian"
   ]
  },
  {
   "cell_type": "code",
   "execution_count": null,
   "metadata": {},
   "outputs": [],
   "source": [
    "from sklearn.naive_bayes import GaussianNB"
   ]
  },
  {
   "cell_type": "code",
   "execution_count": null,
   "metadata": {},
   "outputs": [],
   "source": [
    "gb = GaussianNB().fit(X_train_tk_sm, y_train_tk_sm)"
   ]
  },
  {
   "cell_type": "code",
   "execution_count": null,
   "metadata": {},
   "outputs": [],
   "source": [
    "y_pred_gb = gb.predict(X_test)"
   ]
  },
  {
   "cell_type": "code",
   "execution_count": null,
   "metadata": {},
   "outputs": [
    {
     "data": {
      "text/plain": [
       "0.3042592592592593"
      ]
     },
     "metadata": {},
     "output_type": "display_data"
    }
   ],
   "source": [
    "accuracy_score(y_test ,y_pred_gb)\n"
   ]
  },
  {
   "cell_type": "code",
   "execution_count": null,
   "metadata": {},
   "outputs": [
    {
     "data": {
      "text/html": [
       "<div>\n",
       "<style scoped>\n",
       "    .dataframe tbody tr th:only-of-type {\n",
       "        vertical-align: middle;\n",
       "    }\n",
       "\n",
       "    .dataframe tbody tr th {\n",
       "        vertical-align: top;\n",
       "    }\n",
       "\n",
       "    .dataframe thead th {\n",
       "        text-align: right;\n",
       "    }\n",
       "</style>\n",
       "<table border=\"1\" class=\"dataframe\">\n",
       "  <thead>\n",
       "    <tr style=\"text-align: right;\">\n",
       "      <th></th>\n",
       "      <th>No</th>\n",
       "      <th>Yes</th>\n",
       "      <th>accuracy</th>\n",
       "      <th>macro avg</th>\n",
       "      <th>weighted avg</th>\n",
       "    </tr>\n",
       "  </thead>\n",
       "  <tbody>\n",
       "    <tr>\n",
       "      <th>precision</th>\n",
       "      <td>0.961277</td>\n",
       "      <td>0.058045</td>\n",
       "      <td>0.304259</td>\n",
       "      <td>0.509661</td>\n",
       "      <td>0.913607</td>\n",
       "    </tr>\n",
       "    <tr>\n",
       "      <th>recall</th>\n",
       "      <td>0.276637</td>\n",
       "      <td>0.800000</td>\n",
       "      <td>0.304259</td>\n",
       "      <td>0.538319</td>\n",
       "      <td>0.304259</td>\n",
       "    </tr>\n",
       "    <tr>\n",
       "      <th>f1-score</th>\n",
       "      <td>0.429634</td>\n",
       "      <td>0.108236</td>\n",
       "      <td>0.304259</td>\n",
       "      <td>0.268935</td>\n",
       "      <td>0.412671</td>\n",
       "    </tr>\n",
       "    <tr>\n",
       "      <th>support</th>\n",
       "      <td>5115.000000</td>\n",
       "      <td>285.000000</td>\n",
       "      <td>0.304259</td>\n",
       "      <td>5400.000000</td>\n",
       "      <td>5400.000000</td>\n",
       "    </tr>\n",
       "  </tbody>\n",
       "</table>\n",
       "</div>"
      ],
      "text/plain": [
       "                    No         Yes  accuracy    macro avg  weighted avg\n",
       "precision     0.961277    0.058045  0.304259     0.509661      0.913607\n",
       "recall        0.276637    0.800000  0.304259     0.538319      0.304259\n",
       "f1-score      0.429634    0.108236  0.304259     0.268935      0.412671\n",
       "support    5115.000000  285.000000  0.304259  5400.000000   5400.000000"
      ]
     },
     "metadata": {},
     "output_type": "display_data"
    }
   ],
   "source": [
    "pd.DataFrame(classification_report(y_test, y_pred_gb, output_dict=True))"
   ]
  },
  {
   "cell_type": "code",
   "execution_count": null,
   "metadata": {},
   "outputs": [
    {
     "data": {
      "image/png": "[encoded data removed]",
      "text/plain": [
       "<Figure size 600x600 with 2 Axes>"
      ]
     },
     "metadata": {},
     "output_type": "display_data"
    }
   ],
   "source": [
    "fig, ax = plt.subplots(figsize=(6, 6), dpi=100)\n",
    "plt.title('Confusion Matrix Plot')\n",
    "plot_confusion_matrix(gb, X_test, y_test, ax=ax, normalize='all', values_format='.2%');"
   ]
  }
 ],
 "metadata": {
  "language_info": {
   "name": "python"
  },
  "orig_nbformat": 4
 },
 "nbformat": 4,
 "nbformat_minor": 2
}
